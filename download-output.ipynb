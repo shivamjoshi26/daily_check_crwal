{
 "cells": [
  {
   "cell_type": "code",
   "execution_count": 1,
   "id": "f3ab8973-ebd7-46f7-b92c-9912ecedaf83",
   "metadata": {
    "execution": {
     "iopub.execute_input": "2025-04-26T01:21:13.732161Z",
     "iopub.status.busy": "2025-04-26T01:21:13.731954Z",
     "iopub.status.idle": "2025-04-26T01:28:46.534476Z",
     "shell.execute_reply": "2025-04-26T01:28:46.533840Z"
    }
   },
   "outputs": [
    {
     "name": "stdout",
     "output_type": "stream",
     "text": [
      "Password loaded successfully (hidden)\n"
     ]
    },
    {
     "name": "stdout",
     "output_type": "stream",
     "text": [
      "\n",
      "🔍 Searching for: \"\"THAMES WATER UTILITIES LIMITED\"\"\n"
     ]
    },
    {
     "name": "stdout",
     "output_type": "stream",
     "text": [
      "✅ Date range widget opened.\n"
     ]
    },
    {
     "name": "stdout",
     "output_type": "stream",
     "text": [
      "✅ Publication date section opened.\n"
     ]
    },
    {
     "name": "stdout",
     "output_type": "stream",
     "text": [
      "✅ published_from date set to: 24/04/2025\n"
     ]
    },
    {
     "name": "stdout",
     "output_type": "stream",
     "text": [
      "✅ published_to date set to: 26/04/2025\n"
     ]
    },
    {
     "name": "stdout",
     "output_type": "stream",
     "text": [
      "✅ Results updated.\n"
     ]
    },
    {
     "name": "stdout",
     "output_type": "stream",
     "text": [
      "✅ Search refined: \"\"THAMES WATER UTILITIES LIMITED\"\"\n",
      "\n",
      "📄 Fetching page 1...\n"
     ]
    },
    {
     "name": "stdout",
     "output_type": "stream",
     "text": [
      "⏳ No tenders found on page 1.\n",
      "\n",
      "🔍 Searching for: \"\"SOUTHERN WATER UTILITIES LIMITED\"\"\n"
     ]
    },
    {
     "name": "stdout",
     "output_type": "stream",
     "text": [
      "✅ Date range widget opened.\n"
     ]
    },
    {
     "name": "stdout",
     "output_type": "stream",
     "text": [
      "❌ Error opening publication date section: Message: \n",
      "\n"
     ]
    },
    {
     "name": "stdout",
     "output_type": "stream",
     "text": [
      "✅ published_from date set to: 24/04/2025\n"
     ]
    },
    {
     "name": "stdout",
     "output_type": "stream",
     "text": [
      "✅ published_to date set to: 26/04/2025\n"
     ]
    },
    {
     "name": "stdout",
     "output_type": "stream",
     "text": [
      "✅ Results updated.\n"
     ]
    },
    {
     "name": "stdout",
     "output_type": "stream",
     "text": [
      "✅ Search refined: \"\"SOUTHERN WATER UTILITIES LIMITED\"\"\n",
      "\n",
      "📄 Fetching page 1...\n"
     ]
    },
    {
     "name": "stdout",
     "output_type": "stream",
     "text": [
      "⏳ No tenders found on page 1.\n",
      "\n",
      "🔍 Searching for: \"\"SOUTH WEST WATER LIMITED\"\"\n"
     ]
    },
    {
     "name": "stdout",
     "output_type": "stream",
     "text": [
      "✅ Date range widget opened.\n"
     ]
    },
    {
     "name": "stdout",
     "output_type": "stream",
     "text": [
      "❌ Error opening publication date section: Message: \n",
      "\n"
     ]
    },
    {
     "name": "stdout",
     "output_type": "stream",
     "text": [
      "✅ published_from date set to: 24/04/2025\n"
     ]
    },
    {
     "name": "stdout",
     "output_type": "stream",
     "text": [
      "✅ published_to date set to: 26/04/2025\n"
     ]
    },
    {
     "name": "stdout",
     "output_type": "stream",
     "text": [
      "✅ Results updated.\n"
     ]
    },
    {
     "name": "stdout",
     "output_type": "stream",
     "text": [
      "✅ Search refined: \"\"SOUTH WEST WATER LIMITED\"\"\n",
      "\n",
      "📄 Fetching page 1...\n"
     ]
    },
    {
     "name": "stdout",
     "output_type": "stream",
     "text": [
      "⏳ No tenders found on page 1.\n",
      "\n",
      "🔍 Searching for: \"\"South West Water Ltd\"\"\n"
     ]
    },
    {
     "name": "stdout",
     "output_type": "stream",
     "text": [
      "✅ Date range widget opened.\n"
     ]
    },
    {
     "name": "stdout",
     "output_type": "stream",
     "text": [
      "❌ Error opening publication date section: Message: \n",
      "\n"
     ]
    },
    {
     "name": "stdout",
     "output_type": "stream",
     "text": [
      "✅ published_from date set to: 24/04/2025\n"
     ]
    },
    {
     "name": "stdout",
     "output_type": "stream",
     "text": [
      "✅ published_to date set to: 26/04/2025\n"
     ]
    },
    {
     "name": "stdout",
     "output_type": "stream",
     "text": [
      "✅ Results updated.\n"
     ]
    },
    {
     "name": "stdout",
     "output_type": "stream",
     "text": [
      "✅ Search refined: \"\"South West Water Ltd\"\"\n",
      "\n",
      "📄 Fetching page 1...\n"
     ]
    },
    {
     "name": "stdout",
     "output_type": "stream",
     "text": [
      "⏳ No tenders found on page 1.\n",
      "\n",
      "🔍 Searching for: \"\"PENNON GROUP PLC\"\"\n"
     ]
    },
    {
     "name": "stdout",
     "output_type": "stream",
     "text": [
      "✅ Date range widget opened.\n"
     ]
    },
    {
     "name": "stdout",
     "output_type": "stream",
     "text": [
      "❌ Error opening publication date section: Message: \n",
      "\n"
     ]
    },
    {
     "name": "stdout",
     "output_type": "stream",
     "text": [
      "✅ published_from date set to: 24/04/2025\n"
     ]
    },
    {
     "name": "stdout",
     "output_type": "stream",
     "text": [
      "✅ published_to date set to: 26/04/2025\n"
     ]
    },
    {
     "name": "stdout",
     "output_type": "stream",
     "text": [
      "✅ Results updated.\n"
     ]
    },
    {
     "name": "stdout",
     "output_type": "stream",
     "text": [
      "✅ Search refined: \"\"PENNON GROUP PLC\"\"\n",
      "\n",
      "📄 Fetching page 1...\n"
     ]
    },
    {
     "name": "stdout",
     "output_type": "stream",
     "text": [
      "⏳ No tenders found on page 1.\n",
      "\n",
      "🔍 Searching for: \"\"SSE Plc\"\"\n"
     ]
    },
    {
     "name": "stdout",
     "output_type": "stream",
     "text": [
      "✅ Date range widget opened.\n"
     ]
    },
    {
     "name": "stdout",
     "output_type": "stream",
     "text": [
      "❌ Error opening publication date section: Message: \n",
      "\n"
     ]
    },
    {
     "name": "stdout",
     "output_type": "stream",
     "text": [
      "✅ published_from date set to: 24/04/2025\n"
     ]
    },
    {
     "name": "stdout",
     "output_type": "stream",
     "text": [
      "✅ published_to date set to: 26/04/2025\n"
     ]
    },
    {
     "name": "stdout",
     "output_type": "stream",
     "text": [
      "✅ Results updated.\n"
     ]
    },
    {
     "name": "stdout",
     "output_type": "stream",
     "text": [
      "✅ Search refined: \"\"SSE Plc\"\"\n",
      "\n",
      "📄 Fetching page 1...\n"
     ]
    },
    {
     "name": "stdout",
     "output_type": "stream",
     "text": [
      "⏳ No tenders found on page 1.\n",
      "\n",
      "🔍 Searching for: \"\"SSE SERVICES PLC\"\"\n"
     ]
    },
    {
     "name": "stdout",
     "output_type": "stream",
     "text": [
      "✅ Date range widget opened.\n"
     ]
    },
    {
     "name": "stdout",
     "output_type": "stream",
     "text": [
      "❌ Error opening publication date section: Message: \n",
      "\n"
     ]
    },
    {
     "name": "stdout",
     "output_type": "stream",
     "text": [
      "✅ published_from date set to: 24/04/2025\n"
     ]
    },
    {
     "name": "stdout",
     "output_type": "stream",
     "text": [
      "✅ published_to date set to: 26/04/2025\n"
     ]
    },
    {
     "name": "stdout",
     "output_type": "stream",
     "text": [
      "✅ Results updated.\n"
     ]
    },
    {
     "name": "stdout",
     "output_type": "stream",
     "text": [
      "✅ Search refined: \"\"SSE SERVICES PLC\"\"\n",
      "\n",
      "📄 Fetching page 1...\n"
     ]
    },
    {
     "name": "stdout",
     "output_type": "stream",
     "text": [
      "⏳ No tenders found on page 1.\n",
      "\n",
      "🔍 Searching for: \"\"SEVERN TRENT WATER LIMITED\"\"\n"
     ]
    },
    {
     "name": "stdout",
     "output_type": "stream",
     "text": [
      "❌ Error opening date range widget: Message: \n",
      "Stacktrace:\n",
      "#0 0x563ec495975a <unknown>\n",
      "#1 0x563ec440c4b0 <unknown>\n",
      "#2 0x563ec445d9b3 <unknown>\n",
      "#3 0x563ec445dba1 <unknown>\n",
      "#4 0x563ec44ac1f4 <unknown>\n",
      "#5 0x563ec44835bd <unknown>\n",
      "#6 0x563ec44a95e0 <unknown>\n",
      "#7 0x563ec4483363 <unknown>\n",
      "#8 0x563ec444fd63 <unknown>\n",
      "#9 0x563ec44509c1 <unknown>\n",
      "#10 0x563ec491ea6b <unknown>\n",
      "#11 0x563ec4922951 <unknown>\n",
      "#12 0x563ec4906b62 <unknown>\n",
      "#13 0x563ec49234c4 <unknown>\n",
      "#14 0x563ec48eb13f <unknown>\n",
      "#15 0x563ec49476f8 <unknown>\n",
      "#16 0x563ec49478d6 <unknown>\n",
      "#17 0x563ec49585a6 <unknown>\n",
      "#18 0x7f7bb169caa4 <unknown>\n",
      "#19 0x7f7bb1729c3c <unknown>\n",
      "\n"
     ]
    },
    {
     "name": "stdout",
     "output_type": "stream",
     "text": [
      "❌ Error opening publication date section: Message: \n",
      "Stacktrace:\n",
      "#0 0x563ec495975a <unknown>\n",
      "#1 0x563ec440c4b0 <unknown>\n",
      "#2 0x563ec445d9b3 <unknown>\n",
      "#3 0x563ec445dba1 <unknown>\n",
      "#4 0x563ec44ac1f4 <unknown>\n",
      "#5 0x563ec44835bd <unknown>\n",
      "#6 0x563ec44a95e0 <unknown>\n",
      "#7 0x563ec4483363 <unknown>\n",
      "#8 0x563ec444fd63 <unknown>\n",
      "#9 0x563ec44509c1 <unknown>\n",
      "#10 0x563ec491ea6b <unknown>\n",
      "#11 0x563ec4922951 <unknown>\n",
      "#12 0x563ec4906b62 <unknown>\n",
      "#13 0x563ec49234c4 <unknown>\n",
      "#14 0x563ec48eb13f <unknown>\n",
      "#15 0x563ec49476f8 <unknown>\n",
      "#16 0x563ec49478d6 <unknown>\n",
      "#17 0x563ec49585a6 <unknown>\n",
      "#18 0x7f7bb169caa4 <unknown>\n",
      "#19 0x7f7bb1729c3c <unknown>\n",
      "\n",
      "❌ Error setting published_from date: Message: no such element: Unable to locate element: {\"method\":\"css selector\",\"selector\":\"[name=\"published_from[day]\"]\"}\n",
      "  (Session info: chrome=135.0.7049.95); For documentation on this error, please visit: https://www.selenium.dev/documentation/webdriver/troubleshooting/errors#no-such-element-exception\n",
      "Stacktrace:\n",
      "#0 0x563ec495975a <unknown>\n",
      "#1 0x563ec440c4b0 <unknown>\n",
      "#2 0x563ec445d9b3 <unknown>\n",
      "#3 0x563ec445dba1 <unknown>\n",
      "#4 0x563ec44ac1f4 <unknown>\n",
      "#5 0x563ec44835bd <unknown>\n",
      "#6 0x563ec44a95e0 <unknown>\n",
      "#7 0x563ec4483363 <unknown>\n",
      "#8 0x563ec444fd63 <unknown>\n",
      "#9 0x563ec44509c1 <unknown>\n",
      "#10 0x563ec491ea6b <unknown>\n",
      "#11 0x563ec4922951 <unknown>\n",
      "#12 0x563ec4906b62 <unknown>\n",
      "#13 0x563ec49234c4 <unknown>\n",
      "#14 0x563ec48eb13f <unknown>\n",
      "#15 0x563ec49476f8 <unknown>\n",
      "#16 0x563ec49478d6 <unknown>\n",
      "#17 0x563ec49585a6 <unknown>\n",
      "#18 0x7f7bb169caa4 <unknown>\n",
      "#19 0x7f7bb1729c3c <unknown>\n",
      "\n",
      "❌ Error setting published_to date: Message: no such element: Unable to locate element: {\"method\":\"css selector\",\"selector\":\"[name=\"published_to[day]\"]\"}\n",
      "  (Session info: chrome=135.0.7049.95); For documentation on this error, please visit: https://www.selenium.dev/documentation/webdriver/troubleshooting/errors#no-such-element-exception\n",
      "Stacktrace:\n",
      "#0 0x563ec495975a <unknown>\n",
      "#1 0x563ec440c4b0 <unknown>\n",
      "#2 0x563ec445d9b3 <unknown>\n",
      "#3 0x563ec445dba1 <unknown>\n",
      "#4 0x563ec44ac1f4 <unknown>\n",
      "#5 0x563ec44835bd <unknown>\n",
      "#6 0x563ec44a95e0 <unknown>\n",
      "#7 0x563ec4483363 <unknown>\n",
      "#8 0x563ec444fd63 <unknown>\n",
      "#9 0x563ec44509c1 <unknown>\n",
      "#10 0x563ec491ea6b <unknown>\n",
      "#11 0x563ec4922951 <unknown>\n",
      "#12 0x563ec4906b62 <unknown>\n",
      "#13 0x563ec49234c4 <unknown>\n",
      "#14 0x563ec48eb13f <unknown>\n",
      "#15 0x563ec49476f8 <unknown>\n",
      "#16 0x563ec49478d6 <unknown>\n",
      "#17 0x563ec49585a6 <unknown>\n",
      "#18 0x7f7bb169caa4 <unknown>\n",
      "#19 0x7f7bb1729c3c <unknown>\n",
      "\n",
      "❌ Error updating results: Message: no such element: Unable to locate element: {\"method\":\"css selector\",\"selector\":\"[id=\"adv_search_button\"]\"}\n",
      "  (Session info: chrome=135.0.7049.95); For documentation on this error, please visit: https://www.selenium.dev/documentation/webdriver/troubleshooting/errors#no-such-element-exception\n",
      "Stacktrace:\n",
      "#0 0x563ec495975a <unknown>\n",
      "#1 0x563ec440c4b0 <unknown>\n",
      "#2 0x563ec445d9b3 <unknown>\n",
      "#3 0x563ec445dba1 <unknown>\n",
      "#4 0x563ec44ac1f4 <unknown>\n",
      "#5 0x563ec44835bd <unknown>\n",
      "#6 0x563ec44a95e0 <unknown>\n",
      "#7 0x563ec4483363 <unknown>\n",
      "#8 0x563ec444fd63 <unknown>\n",
      "#9 0x563ec44509c1 <unknown>\n",
      "#10 0x563ec491ea6b <unknown>\n",
      "#11 0x563ec4922951 <unknown>\n",
      "#12 0x563ec4906b62 <unknown>\n",
      "#13 0x563ec49234c4 <unknown>\n",
      "#14 0x563ec48eb13f <unknown>\n",
      "#15 0x563ec49476f8 <unknown>\n",
      "#16 0x563ec49478d6 <unknown>\n",
      "#17 0x563ec49585a6 <unknown>\n",
      "#18 0x7f7bb169caa4 <unknown>\n",
      "#19 0x7f7bb1729c3c <unknown>\n",
      "\n",
      "❌ Search box error: Message: no such element: Unable to locate element: {\"method\":\"css selector\",\"selector\":\"[id=\"keywords\"]\"}\n",
      "  (Session info: chrome=135.0.7049.95); For documentation on this error, please visit: https://www.selenium.dev/documentation/webdriver/troubleshooting/errors#no-such-element-exception\n",
      "Stacktrace:\n",
      "#0 0x563ec495975a <unknown>\n",
      "#1 0x563ec440c4b0 <unknown>\n",
      "#2 0x563ec445d9b3 <unknown>\n",
      "#3 0x563ec445dba1 <unknown>\n",
      "#4 0x563ec44ac1f4 <unknown>\n",
      "#5 0x563ec44835bd <unknown>\n",
      "#6 0x563ec44a95e0 <unknown>\n",
      "#7 0x563ec4483363 <unknown>\n",
      "#8 0x563ec444fd63 <unknown>\n",
      "#9 0x563ec44509c1 <unknown>\n",
      "#10 0x563ec491ea6b <unknown>\n",
      "#11 0x563ec4922951 <unknown>\n",
      "#12 0x563ec4906b62 <unknown>\n",
      "#13 0x563ec49234c4 <unknown>\n",
      "#14 0x563ec48eb13f <unknown>\n",
      "#15 0x563ec49476f8 <unknown>\n",
      "#16 0x563ec49478d6 <unknown>\n",
      "#17 0x563ec49585a6 <unknown>\n",
      "#18 0x7f7bb169caa4 <unknown>\n",
      "#19 0x7f7bb1729c3c <unknown>\n",
      "\n",
      "\n",
      "📄 Fetching page 1...\n"
     ]
    },
    {
     "name": "stdout",
     "output_type": "stream",
     "text": [
      "⏳ No tenders found on page 1.\n",
      "\n",
      "🔍 Searching for: \"\"NORTHUMBRIAN WATER GROUP LIMITED\"\"\n"
     ]
    },
    {
     "name": "stdout",
     "output_type": "stream",
     "text": [
      "✅ Date range widget opened.\n"
     ]
    },
    {
     "name": "stdout",
     "output_type": "stream",
     "text": [
      "❌ Error opening publication date section: Message: \n",
      "\n"
     ]
    },
    {
     "name": "stdout",
     "output_type": "stream",
     "text": [
      "✅ published_from date set to: 24/04/2025\n"
     ]
    },
    {
     "name": "stdout",
     "output_type": "stream",
     "text": [
      "✅ published_to date set to: 26/04/2025\n"
     ]
    },
    {
     "name": "stdout",
     "output_type": "stream",
     "text": [
      "✅ Results updated.\n"
     ]
    },
    {
     "name": "stdout",
     "output_type": "stream",
     "text": [
      "✅ Search refined: \"\"NORTHUMBRIAN WATER GROUP LIMITED\"\"\n",
      "\n",
      "📄 Fetching page 1...\n"
     ]
    },
    {
     "name": "stdout",
     "output_type": "stream",
     "text": [
      "⏳ No tenders found on page 1.\n",
      "\n",
      "🔍 Searching for: \"\"Portsmouth Water Limited\"\"\n"
     ]
    },
    {
     "name": "stdout",
     "output_type": "stream",
     "text": [
      "✅ Date range widget opened.\n"
     ]
    },
    {
     "name": "stdout",
     "output_type": "stream",
     "text": [
      "❌ Error opening publication date section: Message: \n",
      "\n"
     ]
    },
    {
     "name": "stdout",
     "output_type": "stream",
     "text": [
      "✅ published_from date set to: 24/04/2025\n"
     ]
    },
    {
     "name": "stdout",
     "output_type": "stream",
     "text": [
      "✅ published_to date set to: 26/04/2025\n"
     ]
    },
    {
     "name": "stdout",
     "output_type": "stream",
     "text": [
      "✅ Results updated.\n"
     ]
    },
    {
     "name": "stdout",
     "output_type": "stream",
     "text": [
      "✅ Search refined: \"\"Portsmouth Water Limited\"\"\n",
      "\n",
      "📄 Fetching page 1...\n"
     ]
    },
    {
     "name": "stdout",
     "output_type": "stream",
     "text": [
      "⏳ No tenders found on page 1.\n",
      "\n",
      "🔍 Searching for: \"\"AFFINITY WATER LIMITED\"\"\n"
     ]
    },
    {
     "name": "stdout",
     "output_type": "stream",
     "text": [
      "✅ Date range widget opened.\n"
     ]
    },
    {
     "name": "stdout",
     "output_type": "stream",
     "text": [
      "❌ Error opening publication date section: Message: \n",
      "\n"
     ]
    },
    {
     "name": "stdout",
     "output_type": "stream",
     "text": [
      "✅ published_from date set to: 24/04/2025\n"
     ]
    },
    {
     "name": "stdout",
     "output_type": "stream",
     "text": [
      "✅ published_to date set to: 26/04/2025\n"
     ]
    },
    {
     "name": "stdout",
     "output_type": "stream",
     "text": [
      "✅ Results updated.\n"
     ]
    },
    {
     "name": "stdout",
     "output_type": "stream",
     "text": [
      "✅ Search refined: \"\"AFFINITY WATER LIMITED\"\"\n",
      "\n",
      "📄 Fetching page 1...\n"
     ]
    },
    {
     "name": "stdout",
     "output_type": "stream",
     "text": [
      "⏳ No tenders found on page 1.\n",
      "\n",
      "🔍 Searching for: \"\"Dwr Cymru Welsh Water\"\"\n"
     ]
    },
    {
     "name": "stdout",
     "output_type": "stream",
     "text": [
      "✅ Date range widget opened.\n"
     ]
    },
    {
     "name": "stdout",
     "output_type": "stream",
     "text": [
      "❌ Error opening publication date section: Message: \n",
      "\n"
     ]
    },
    {
     "name": "stdout",
     "output_type": "stream",
     "text": [
      "✅ published_from date set to: 24/04/2025\n"
     ]
    },
    {
     "name": "stdout",
     "output_type": "stream",
     "text": [
      "✅ published_to date set to: 26/04/2025\n"
     ]
    },
    {
     "name": "stdout",
     "output_type": "stream",
     "text": [
      "✅ Results updated.\n"
     ]
    },
    {
     "name": "stdout",
     "output_type": "stream",
     "text": [
      "✅ Search refined: \"\"Dwr Cymru Welsh Water\"\"\n",
      "\n",
      "📄 Fetching page 1...\n"
     ]
    },
    {
     "name": "stdout",
     "output_type": "stream",
     "text": [
      "⏳ No tenders found on page 1.\n",
      "\n",
      "🔍 Searching for: \"\"UK POWER NETWORKS (OPERATIONS) LIMITED\"\"\n"
     ]
    },
    {
     "name": "stdout",
     "output_type": "stream",
     "text": [
      "✅ Date range widget opened.\n"
     ]
    },
    {
     "name": "stdout",
     "output_type": "stream",
     "text": [
      "❌ Error opening publication date section: Message: \n",
      "\n"
     ]
    },
    {
     "name": "stdout",
     "output_type": "stream",
     "text": [
      "✅ published_from date set to: 24/04/2025\n"
     ]
    },
    {
     "name": "stdout",
     "output_type": "stream",
     "text": [
      "✅ published_to date set to: 26/04/2025\n"
     ]
    },
    {
     "name": "stdout",
     "output_type": "stream",
     "text": [
      "✅ Results updated.\n"
     ]
    },
    {
     "name": "stdout",
     "output_type": "stream",
     "text": [
      "✅ Search refined: \"\"UK POWER NETWORKS (OPERATIONS) LIMITED\"\"\n",
      "\n",
      "📄 Fetching page 1...\n"
     ]
    },
    {
     "name": "stdout",
     "output_type": "stream",
     "text": [
      "⏳ No tenders found on page 1.\n",
      "\n",
      "🔍 Searching for: \"\"CENTRICA PLC\"\"\n"
     ]
    },
    {
     "name": "stdout",
     "output_type": "stream",
     "text": [
      "✅ Date range widget opened.\n"
     ]
    },
    {
     "name": "stdout",
     "output_type": "stream",
     "text": [
      "❌ Error opening publication date section: Message: \n",
      "\n"
     ]
    },
    {
     "name": "stdout",
     "output_type": "stream",
     "text": [
      "✅ published_from date set to: 24/04/2025\n"
     ]
    },
    {
     "name": "stdout",
     "output_type": "stream",
     "text": [
      "✅ published_to date set to: 26/04/2025\n"
     ]
    },
    {
     "name": "stdout",
     "output_type": "stream",
     "text": [
      "✅ Results updated.\n"
     ]
    },
    {
     "name": "stdout",
     "output_type": "stream",
     "text": [
      "✅ Search refined: \"\"CENTRICA PLC\"\"\n",
      "\n",
      "📄 Fetching page 1...\n"
     ]
    },
    {
     "name": "stdout",
     "output_type": "stream",
     "text": [
      "⏳ No tenders found on page 1.\n",
      "\n",
      "🔍 Searching for: \"\"GNI (UK) Limited\"\"\n"
     ]
    },
    {
     "name": "stdout",
     "output_type": "stream",
     "text": [
      "✅ Date range widget opened.\n"
     ]
    },
    {
     "name": "stdout",
     "output_type": "stream",
     "text": [
      "❌ Error opening publication date section: Message: \n",
      "\n"
     ]
    },
    {
     "name": "stdout",
     "output_type": "stream",
     "text": [
      "✅ published_from date set to: 24/04/2025\n"
     ]
    },
    {
     "name": "stdout",
     "output_type": "stream",
     "text": [
      "✅ published_to date set to: 26/04/2025\n"
     ]
    },
    {
     "name": "stdout",
     "output_type": "stream",
     "text": [
      "✅ Results updated.\n"
     ]
    },
    {
     "name": "stdout",
     "output_type": "stream",
     "text": [
      "✅ Search refined: \"\"GNI (UK) Limited\"\"\n",
      "\n",
      "📄 Fetching page 1...\n"
     ]
    },
    {
     "name": "stdout",
     "output_type": "stream",
     "text": [
      "⏳ No tenders found on page 1.\n",
      "\n",
      "🔍 Searching for: \"\"UNITED UTILITIES WATER LIMITED\"\"\n"
     ]
    },
    {
     "name": "stdout",
     "output_type": "stream",
     "text": [
      "✅ Date range widget opened.\n"
     ]
    },
    {
     "name": "stdout",
     "output_type": "stream",
     "text": [
      "❌ Error opening publication date section: Message: \n",
      "\n"
     ]
    },
    {
     "name": "stdout",
     "output_type": "stream",
     "text": [
      "✅ published_from date set to: 24/04/2025\n"
     ]
    },
    {
     "name": "stdout",
     "output_type": "stream",
     "text": [
      "✅ published_to date set to: 26/04/2025\n"
     ]
    },
    {
     "name": "stdout",
     "output_type": "stream",
     "text": [
      "✅ Results updated.\n"
     ]
    },
    {
     "name": "stdout",
     "output_type": "stream",
     "text": [
      "✅ Search refined: \"\"UNITED UTILITIES WATER LIMITED\"\"\n",
      "\n",
      "📄 Fetching page 1...\n"
     ]
    },
    {
     "name": "stdout",
     "output_type": "stream",
     "text": [
      "\n",
      "📄 Fetching page 2...\n"
     ]
    },
    {
     "name": "stdout",
     "output_type": "stream",
     "text": [
      "\n",
      "📄 Fetching page 3...\n"
     ]
    },
    {
     "name": "stdout",
     "output_type": "stream",
     "text": [
      "\n",
      "🔍 Searching for: \"\"ANGLIAN WATER SERVICES LIMITED\"\"\n"
     ]
    },
    {
     "name": "stdout",
     "output_type": "stream",
     "text": [
      "✅ Date range widget opened.\n"
     ]
    },
    {
     "name": "stdout",
     "output_type": "stream",
     "text": [
      "❌ Error opening publication date section: Message: \n",
      "\n"
     ]
    },
    {
     "name": "stdout",
     "output_type": "stream",
     "text": [
      "✅ published_from date set to: 24/04/2025\n"
     ]
    },
    {
     "name": "stdout",
     "output_type": "stream",
     "text": [
      "✅ published_to date set to: 26/04/2025\n"
     ]
    },
    {
     "name": "stdout",
     "output_type": "stream",
     "text": [
      "✅ Results updated.\n"
     ]
    },
    {
     "name": "stdout",
     "output_type": "stream",
     "text": [
      "✅ Search refined: \"\"ANGLIAN WATER SERVICES LIMITED\"\"\n",
      "\n",
      "📄 Fetching page 1...\n"
     ]
    },
    {
     "name": "stdout",
     "output_type": "stream",
     "text": [
      "⏳ No tenders found on page 1.\n",
      "📂 Results saved to tenders.txt\n"
     ]
    },
    {
     "name": "stdout",
     "output_type": "stream",
     "text": [
      "📧 Email sent successfully!\n"
     ]
    }
   ],
   "source": [
    "import time\n",
    "import random\n",
    "import smtplib\n",
    "import socket\n",
    "import os\n",
    "from datetime import datetime, timedelta\n",
    "from collections import defaultdict\n",
    "from email.mime.multipart import MIMEMultipart\n",
    "from email.mime.text import MIMEText\n",
    "from selenium import webdriver\n",
    "from selenium.webdriver.common.keys import Keys\n",
    "from selenium.webdriver.common.by import By\n",
    "from selenium.webdriver.support.ui import WebDriverWait\n",
    "from selenium.webdriver.support import expected_conditions as EC\n",
    "from selenium.common.exceptions import TimeoutException\n",
    "import chromedriver_autoinstaller\n",
    "import os\n",
    "\n",
    "import os\n",
    "\n",
    "# Load SMTP Password from Environment Variables\n",
    "SMTP_PASSWORD = os.getenv(\"SMTP_PASSWORD\")\n",
    "\n",
    "if SMTP_PASSWORD is None:\n",
    "    raise ValueError(\"SMTP_PASSWORD environment variable is not set.\")\n",
    "\n",
    "print(\"Password loaded successfully (hidden)\")  # Password won't be printed\n",
    "\n",
    "# SMTP Email Configuration\n",
    "SMTP_SERVER = \"smtp.gmail.com\"  # Use your email provider's SMTP server\n",
    "SMTP_PORT = 587\n",
    "SMTP_USERNAME = \"shivamjoshi70@gmail.com\"  # Replace with your email\n",
    "RECIPIENT_EMAIL = [\"shivamjoshi70@gmail.com\", \"sameerm683@gmail.com\"]\n",
    "\n",
    " \n",
    "# Search settings\n",
    "SEARCH_URL = \"https://www.find-tender.service.gov.uk/Search/Results\"\n",
    "KEYWORDS = ['\"THAMES WATER UTILITIES LIMITED\"', '\"SOUTHERN WATER UTILITIES LIMITED\"',\n",
    "                '\"SOUTH WEST WATER LIMITED\"', '\"South West Water Ltd\"', '\"PENNON GROUP PLC\"',\n",
    "                '\"SSE Plc\"', '\"SSE SERVICES PLC\"', '\"SEVERN TRENT WATER LIMITED\"',\n",
    "                '\"NORTHUMBRIAN WATER GROUP LIMITED\"', '\"Portsmouth Water Limited\"',\n",
    "                '\"AFFINITY WATER LIMITED\"', '\"Dwr Cymru Welsh Water\"',\n",
    "                '\"UK POWER NETWORKS (OPERATIONS) LIMITED\"', '\"CENTRICA PLC\"',\n",
    "                '\"GNI (UK) Limited\"', '\"UNITED UTILITIES WATER LIMITED\"', '\"ANGLIAN WATER SERVICES LIMITED\"']\n",
    "OUTPUT_FILENAME = \"tenders.txt\"\n",
    " \n",
    "# Setup WebDriver (Installs ChromeDriver automatically)\n",
    "def setup_driver():\n",
    "    chromedriver_autoinstaller.install()\n",
    "    options = webdriver.ChromeOptions()\n",
    "    options.add_argument(\"--headless\")  # Run in headless mode\n",
    "    options.add_argument(\"--disable-gpu\")\n",
    "    options.add_argument(\"--no-sandbox\")\n",
    "    options.add_argument(\"--disable-dev-shm-usage\")\n",
    "    driver = webdriver.Chrome(options=options)\n",
    "    return driver\n",
    " \n",
    "# Open date range filter\n",
    "def open_date_range_widget(driver):\n",
    "    try:\n",
    "        date_range_btn = WebDriverWait(driver, 10).until(\n",
    "            EC.element_to_be_clickable((By.XPATH, \"//button[contains(., 'Date range')]\"))\n",
    "        )\n",
    "        date_range_btn.click()\n",
    "        time.sleep(1.5)\n",
    "        print(\"✅ Date range widget opened.\")\n",
    "    except Exception as e:\n",
    "        print(f\"❌ Error opening date range widget: {e}\")\n",
    " \n",
    "# Open publication date section\n",
    "def open_publication_date_section(driver):\n",
    "    try:\n",
    "        for _ in range(2):\n",
    "            pub_date_span = WebDriverWait(driver, 10).until(\n",
    "                EC.element_to_be_clickable((By.XPATH, \"//span[@aria-label='Publication date']\"))\n",
    "            )\n",
    "            pub_date_span.click()\n",
    "            time.sleep(1)\n",
    "        print(\"✅ Publication date section opened.\")\n",
    "    except Exception as e:\n",
    "        print(f\"❌ Error opening publication date section: {e}\")\n",
    " \n",
    "# Set date filters\n",
    "def set_date_inputs(driver, prefix, target_date):\n",
    "    try:\n",
    "        day_input = driver.find_element(By.NAME, f\"{prefix}[day]\")\n",
    "        month_input = driver.find_element(By.NAME, f\"{prefix}[month]\")\n",
    "        year_input = driver.find_element(By.NAME, f\"{prefix}[year]\")\n",
    " \n",
    "        driver.execute_script(\"arguments[0].value = arguments[1];\", day_input, target_date.strftime(\"%d\"))\n",
    "        driver.execute_script(\"arguments[0].value = arguments[1];\", month_input, target_date.strftime(\"%m\"))\n",
    "        driver.execute_script(\"arguments[0].value = arguments[1];\", year_input, target_date.strftime(\"%Y\"))\n",
    " \n",
    "        time.sleep(1)\n",
    "        print(f\"✅ {prefix} date set to: {target_date.strftime('%d/%m/%Y')}\")\n",
    "    except Exception as e:\n",
    "        print(f\"❌ Error setting {prefix} date: {e}\")\n",
    " \n",
    "# Click update results\n",
    "def click_update_results(driver):\n",
    "    try:\n",
    "        update_btn = driver.find_element(By.ID, \"adv_search_button\")\n",
    "        update_btn.click()\n",
    "        time.sleep(2)\n",
    "        print(\"✅ Results updated.\")\n",
    "    except Exception as e:\n",
    "        print(f\"❌ Error updating results: {e}\")\n",
    " \n",
    "# Refine search using keyword\n",
    "def refine_search(driver, keyword):\n",
    "    try:\n",
    "        search_box = driver.find_element(By.ID, \"keywords\")\n",
    "        search_box.clear()\n",
    "        search_box.send_keys(keyword)\n",
    "        time.sleep(1)\n",
    "        search_box.send_keys(Keys.RETURN)\n",
    "        time.sleep(2)\n",
    "        print(f\"✅ Search refined: \\\"{keyword}\\\"\")\n",
    "    except Exception as e:\n",
    "        print(f\"❌ Search box error: {e}\")\n",
    " \n",
    "# Extract tenders\n",
    "def extract_tenders(driver, max_pages=3):\n",
    "    tender_links = set()\n",
    "    for page in range(1, max_pages + 1):\n",
    "        print(f\"\\n📄 Fetching page {page}...\")\n",
    "        time.sleep(random.uniform(2, 3))\n",
    "        try:\n",
    "            tenders = driver.find_elements(By.XPATH, \"//a[contains(@href, '/Notice/')]\")\n",
    "            page_links = {tender.get_attribute(\"href\") for tender in tenders if tender.get_attribute(\"href\")}\n",
    "            tender_links.update(page_links)\n",
    "            if not page_links:\n",
    "                print(f\"⏳ No tenders found on page {page}.\")\n",
    "                break\n",
    "        except Exception as e:\n",
    "            print(f\"❌ Error extracting tenders: {e}\")\n",
    "            break\n",
    "    return list(tender_links)\n",
    " \n",
    "# Save results\n",
    "def save_results_to_file(results):\n",
    "    try:\n",
    "        with open(OUTPUT_FILENAME, \"w\", encoding=\"utf-8\") as file:\n",
    "            for keyword, links in results.items():\n",
    "                file.write(f\"\\n🔍 {keyword}:\\n\" + \"\\n\".join(links) + \"\\n\")\n",
    "        print(f\"📂 Results saved to {OUTPUT_FILENAME}\")\n",
    "    except Exception as e:\n",
    "        print(f\"❌ Error saving results: {e}\")\n",
    " \n",
    "# Send email with results\n",
    "def send_email(subject, body, attachment):\n",
    "    try:\n",
    "        msg = MIMEMultipart()\n",
    "        msg[\"From\"] = SMTP_USERNAME\n",
    "        msg[\"To\"] = \", \".join(RECIPIENT_EMAIL)\n",
    "        msg[\"Subject\"] = subject\n",
    "        msg.attach(MIMEText(body, \"plain\"))\n",
    " \n",
    "        with open(attachment, \"r\", encoding=\"utf-8\") as file:\n",
    "            attachment_text = file.read()\n",
    "            msg.attach(MIMEText(attachment_text, \"plain\"))\n",
    " \n",
    "        server = smtplib.SMTP(SMTP_SERVER, SMTP_PORT)\n",
    "        server.starttls()\n",
    "        server.login(SMTP_USERNAME, SMTP_PASSWORD)\n",
    "        server.sendmail(SMTP_USERNAME, RECIPIENT_EMAIL, msg.as_string())\n",
    "        server.quit()\n",
    " \n",
    "        print(\"📧 Email sent successfully!\")\n",
    "    except socket.timeout:\n",
    "        print(\"❌ Email error: Connection timeout.\")\n",
    "    except Exception as e:\n",
    "        print(f\"❌ Email error: {e}\")\n",
    " \n",
    "# Main function\n",
    "def main():\n",
    "    driver = setup_driver()\n",
    "    results = defaultdict(list)\n",
    " \n",
    "    from_date = datetime.today() - timedelta(days=2)\n",
    "    to_date = datetime.today()\n",
    " \n",
    "    for keyword in KEYWORDS:\n",
    "        print(f\"\\n🔍 Searching for: \\\"{keyword}\\\"\")\n",
    "        driver.get(SEARCH_URL)\n",
    "        time.sleep(2)\n",
    " \n",
    "        open_date_range_widget(driver)\n",
    "        open_publication_date_section(driver)\n",
    "        set_date_inputs(driver, \"published_from\", from_date)\n",
    "        set_date_inputs(driver, \"published_to\", to_date)\n",
    "        click_update_results(driver)\n",
    "        refine_search(driver, keyword)\n",
    " \n",
    "        results[keyword] = extract_tenders(driver)\n",
    " \n",
    "    driver.quit()\n",
    "    save_results_to_file(results)\n",
    "    send_email(\"Tender Alert\", \"Attached are the latest tenders.\", OUTPUT_FILENAME)\n",
    " \n",
    "if __name__ == \"__main__\":\n",
    "    main()"
   ]
  },
  {
   "cell_type": "code",
   "execution_count": null,
   "id": "68291349",
   "metadata": {},
   "outputs": [],
   "source": []
  },
  {
   "cell_type": "code",
   "execution_count": null,
   "id": "405fc0e7-85eb-4b01-9091-a4eb29f26fd3",
   "metadata": {},
   "outputs": [],
   "source": []
  },
  {
   "cell_type": "code",
   "execution_count": null,
   "id": "6e02e13f-b702-4c47-8b18-19e0180c1dba",
   "metadata": {},
   "outputs": [],
   "source": []
  }
 ],
 "metadata": {
  "kernelspec": {
   "display_name": "Python 3 (ipykernel)",
   "language": "python",
   "name": "python3"
  },
  "language_info": {
   "codemirror_mode": {
    "name": "ipython",
    "version": 3
   },
   "file_extension": ".py",
   "mimetype": "text/x-python",
   "name": "python",
   "nbconvert_exporter": "python",
   "pygments_lexer": "ipython3",
   "version": "3.9.22"
  }
 },
 "nbformat": 4,
 "nbformat_minor": 5
}
